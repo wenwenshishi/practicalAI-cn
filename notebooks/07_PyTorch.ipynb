{
  "nbformat": 4,
  "nbformat_minor": 0,
  "metadata": {
    "colab": {
      "name": "07_PyTorch",
      "provenance": []
    },
    "kernelspec": {
      "name": "python3",
      "display_name": "Python 3"
    },
    "accelerator": "GPU"
  },
  "cells": [
    {
      "metadata": {
        "id": "bOChJSNXtC9g"
      },
      "cell_type": "markdown",
      "source": [
        "# PyTorch"
      ]
    },
    {
      "metadata": {
        "id": "OLIxEDq6VhvZ"
      },
      "cell_type": "markdown",
      "source": [
        "<img src=\"https://raw.githubusercontent.com/LisonEvf/practicalAI-cn/master/images/logo.png\" width=150>\n",
        "\n",
        "在这节课中，我们将学习PyTorch，它是一个用于构建动态神经网络的学习库。我们将在本课程中了解其基础知识，以及如何创建和使用张量（Tensor），而我们将在下一课中使用它制作模型。\n",
        "\n",
        "<img src=\"https://raw.githubusercontent.com/LisonEvf/practicalAI-cn/master/images/pytorch.png\" width=300>"
      ]
    },
    {
      "metadata": {
        "id": "VoMq0eFRvugb"
      },
      "cell_type": "markdown",
      "source": [
        "# Tensor 基础知识"
      ]
    },
    {
      "metadata": {
        "id": "0-dXQiLlTIgz",
        "outputId": "5e84a7eb-fc3b-4855-f466-36e3f953100c",
        "colab": {
          "base_uri": "https://localhost:8080/"
        }
      },
      "cell_type": "code",
      "source": [
        "# 安装PyTorch库\n",
        "!pip3 install torch"
      ],
      "execution_count": 39,
      "outputs": [
        {
          "output_type": "stream",
          "name": "stdout",
          "text": [
            "Requirement already satisfied: torch in /usr/local/lib/python3.11/dist-packages (2.6.0+cu124)\n",
            "Requirement already satisfied: filelock in /usr/local/lib/python3.11/dist-packages (from torch) (3.18.0)\n",
            "Requirement already satisfied: typing-extensions>=4.10.0 in /usr/local/lib/python3.11/dist-packages (from torch) (4.14.0)\n",
            "Requirement already satisfied: networkx in /usr/local/lib/python3.11/dist-packages (from torch) (3.5)\n",
            "Requirement already satisfied: jinja2 in /usr/local/lib/python3.11/dist-packages (from torch) (3.1.6)\n",
            "Requirement already satisfied: fsspec in /usr/local/lib/python3.11/dist-packages (from torch) (2025.3.2)\n",
            "Requirement already satisfied: nvidia-cuda-nvrtc-cu12==12.4.127 in /usr/local/lib/python3.11/dist-packages (from torch) (12.4.127)\n",
            "Requirement already satisfied: nvidia-cuda-runtime-cu12==12.4.127 in /usr/local/lib/python3.11/dist-packages (from torch) (12.4.127)\n",
            "Requirement already satisfied: nvidia-cuda-cupti-cu12==12.4.127 in /usr/local/lib/python3.11/dist-packages (from torch) (12.4.127)\n",
            "Requirement already satisfied: nvidia-cudnn-cu12==9.1.0.70 in /usr/local/lib/python3.11/dist-packages (from torch) (9.1.0.70)\n",
            "Requirement already satisfied: nvidia-cublas-cu12==12.4.5.8 in /usr/local/lib/python3.11/dist-packages (from torch) (12.4.5.8)\n",
            "Requirement already satisfied: nvidia-cufft-cu12==11.2.1.3 in /usr/local/lib/python3.11/dist-packages (from torch) (11.2.1.3)\n",
            "Requirement already satisfied: nvidia-curand-cu12==10.3.5.147 in /usr/local/lib/python3.11/dist-packages (from torch) (10.3.5.147)\n",
            "Requirement already satisfied: nvidia-cusolver-cu12==11.6.1.9 in /usr/local/lib/python3.11/dist-packages (from torch) (11.6.1.9)\n",
            "Requirement already satisfied: nvidia-cusparse-cu12==12.3.1.170 in /usr/local/lib/python3.11/dist-packages (from torch) (12.3.1.170)\n",
            "Requirement already satisfied: nvidia-cusparselt-cu12==0.6.2 in /usr/local/lib/python3.11/dist-packages (from torch) (0.6.2)\n",
            "Requirement already satisfied: nvidia-nccl-cu12==2.21.5 in /usr/local/lib/python3.11/dist-packages (from torch) (2.21.5)\n",
            "Requirement already satisfied: nvidia-nvtx-cu12==12.4.127 in /usr/local/lib/python3.11/dist-packages (from torch) (12.4.127)\n",
            "Requirement already satisfied: nvidia-nvjitlink-cu12==12.4.127 in /usr/local/lib/python3.11/dist-packages (from torch) (12.4.127)\n",
            "Requirement already satisfied: triton==3.2.0 in /usr/local/lib/python3.11/dist-packages (from torch) (3.2.0)\n",
            "Requirement already satisfied: sympy==1.13.1 in /usr/local/lib/python3.11/dist-packages (from torch) (1.13.1)\n",
            "Requirement already satisfied: mpmath<1.4,>=1.1.0 in /usr/local/lib/python3.11/dist-packages (from sympy==1.13.1->torch) (1.3.0)\n",
            "Requirement already satisfied: MarkupSafe>=2.0 in /usr/local/lib/python3.11/dist-packages (from jinja2->torch) (3.0.2)\n"
          ]
        }
      ]
    },
    {
      "metadata": {
        "id": "t6z1cCPTZSwo"
      },
      "cell_type": "markdown",
      "source": [
        ">  注意：上述安装PyTorch的方式与官网并不一致，因为这里是基于Colab云端安装的，而大家一般是使用pip或者conda来安装PyTorch。具体安装教程参考：https://pytorch.org/"
      ]
    },
    {
      "metadata": {
        "id": "rX7Vs1JxL9wX"
      },
      "cell_type": "code",
      "source": [
        "import numpy as np\n",
        "import torch"
      ],
      "execution_count": 40,
      "outputs": []
    },
    {
      "metadata": {
        "id": "Nv0xryLkKujV",
        "outputId": "56035648-7410-492b-8768-b1e348e75787",
        "colab": {
          "base_uri": "https://localhost:8080/"
        }
      },
      "cell_type": "code",
      "source": [
        "# 创建一个张量\n",
        "x = torch.Tensor(3, 4)\n",
        "print(\"Type: {}\".format(x.type()))\n",
        "print(\"Size: {}\".format(x.shape))\n",
        "print(\"Values: \\n{}\".format(x))"
      ],
      "execution_count": 41,
      "outputs": [
        {
          "output_type": "stream",
          "name": "stdout",
          "text": [
            "Type: torch.FloatTensor\n",
            "Size: torch.Size([3, 4])\n",
            "Values: \n",
            "tensor([[2.1707e-18, 7.0952e+22, 1.7748e+28, 1.8176e+31],\n",
            "        [7.2708e+31, 5.0778e+31, 3.2608e-12, 1.7728e+28],\n",
            "        [7.0367e+22, 2.1715e-18, 1.0741e-05, 5.2303e+22]])\n"
          ]
        }
      ]
    },
    {
      "metadata": {
        "id": "vnyzY4PHL7c5",
        "outputId": "791880e3-f2ce-43f7-9ae0-e49b46e5e529",
        "colab": {
          "base_uri": "https://localhost:8080/"
        }
      },
      "cell_type": "code",
      "source": [
        "# 创建一个随机张量\n",
        "x = torch.randn(2, 3) # torch.randn对应于正态分布，而rand(2,3)对应于均匀分布\n",
        "print (x)"
      ],
      "execution_count": 42,
      "outputs": [
        {
          "output_type": "stream",
          "name": "stdout",
          "text": [
            "tensor([[-1.1444, -2.3048,  1.3223],\n",
            "        [ 0.0240,  1.3036, -0.8598]])\n"
          ]
        }
      ]
    },
    {
      "metadata": {
        "id": "DVwGNeKxMXI8",
        "outputId": "99d64282-a259-447a-b223-8986ff4148da",
        "colab": {
          "base_uri": "https://localhost:8080/"
        }
      },
      "cell_type": "code",
      "source": [
        "# 0和1张量\n",
        "x = torch.zeros(2, 3)\n",
        "print (x)\n",
        "x = torch.ones(2, 3)\n",
        "print (x)"
      ],
      "execution_count": 43,
      "outputs": [
        {
          "output_type": "stream",
          "name": "stdout",
          "text": [
            "tensor([[0., 0., 0.],\n",
            "        [0., 0., 0.]])\n",
            "tensor([[1., 1., 1.],\n",
            "        [1., 1., 1.]])\n"
          ]
        }
      ]
    },
    {
      "metadata": {
        "id": "BPjHnDmCMXLm",
        "outputId": "0e9f5a0a-45f3-4c21-dc21-820e7a6293fa",
        "colab": {
          "base_uri": "https://localhost:8080/"
        }
      },
      "cell_type": "code",
      "source": [
        "# 列表（List） → 张量\n",
        "x = torch.Tensor([[1, 2, 3],[4, 5, 6]])\n",
        "print(\"Size: {}\".format(x.shape))\n",
        "print(\"Values: \\n{}\".format(x))"
      ],
      "execution_count": 44,
      "outputs": [
        {
          "output_type": "stream",
          "name": "stdout",
          "text": [
            "Size: torch.Size([2, 3])\n",
            "Values: \n",
            "tensor([[1., 2., 3.],\n",
            "        [4., 5., 6.]])\n"
          ]
        }
      ]
    },
    {
      "metadata": {
        "id": "mG4-CHkgMXOE",
        "outputId": "17211da4-c96f-4bb0-b23e-3e781e7b0576",
        "colab": {
          "base_uri": "https://localhost:8080/"
        }
      },
      "cell_type": "code",
      "source": [
        "# NumPy 数组 → 张量\n",
        "x = torch.from_numpy(np.random.rand(2, 3))\n",
        "print(\"Size: {}\".format(x.shape))\n",
        "print(\"Values: \\n{}\".format(x))"
      ],
      "execution_count": 45,
      "outputs": [
        {
          "output_type": "stream",
          "name": "stdout",
          "text": [
            "Size: torch.Size([2, 3])\n",
            "Values: \n",
            "tensor([[0.6959, 0.0265, 0.3545],\n",
            "        [0.3121, 0.6025, 0.1110]], dtype=torch.float64)\n"
          ]
        }
      ]
    },
    {
      "metadata": {
        "id": "L8X2-5cqMXRA",
        "outputId": "33be4ebb-1d7e-4483-84d0-b4be0d1576c6",
        "colab": {
          "base_uri": "https://localhost:8080/"
        }
      },
      "cell_type": "code",
      "source": [
        "# 改变张量类型（张量默认为float类型）\n",
        "x = torch.Tensor(3, 4)\n",
        "print(\"Type: {}\".format(x.type()))\n",
        "x = x.long()\n",
        "print(\"Type: {}\".format(x.type()))"
      ],
      "execution_count": 46,
      "outputs": [
        {
          "output_type": "stream",
          "name": "stdout",
          "text": [
            "Type: torch.FloatTensor\n",
            "Type: torch.LongTensor\n"
          ]
        }
      ]
    },
    {
      "metadata": {
        "id": "S2BRPaMvPbe3"
      },
      "cell_type": "markdown",
      "source": [
        "# Tensor 运算"
      ]
    },
    {
      "metadata": {
        "id": "Xrn8I76TMXT1",
        "outputId": "9189aa91-fecb-491a-9a92-b04f45cfeb63",
        "colab": {
          "base_uri": "https://localhost:8080/"
        }
      },
      "cell_type": "code",
      "source": [
        "# 加法\n",
        "x = torch.randn(2, 3)\n",
        "y = torch.randn(2, 3)\n",
        "z = x + y\n",
        "print(\"Size: {}\".format(z.shape))\n",
        "print(\"Values: \\n{}\".format(z))"
      ],
      "execution_count": 47,
      "outputs": [
        {
          "output_type": "stream",
          "name": "stdout",
          "text": [
            "Size: torch.Size([2, 3])\n",
            "Values: \n",
            "tensor([[ 0.0126,  0.2411,  0.1714],\n",
            "        [-0.1652, -0.2868,  0.6245]])\n"
          ]
        }
      ]
    },
    {
      "metadata": {
        "id": "157fC9WsMXWf",
        "outputId": "489d44e8-d734-4c08-e3b3-79b9c1a4ff5d",
        "colab": {
          "base_uri": "https://localhost:8080/"
        }
      },
      "cell_type": "code",
      "source": [
        "# Perform matrix multiplication\n",
        "x = torch.randn(2, 3)\n",
        "y = torch.randn(3, 2)\n",
        "z = torch.mm(x, y)\n",
        "print(\"Size: {}\".format(z.shape))\n",
        "print(\"Values: \\n{}\".format(z))"
      ],
      "execution_count": 48,
      "outputs": [
        {
          "output_type": "stream",
          "name": "stdout",
          "text": [
            "Size: torch.Size([2, 2])\n",
            "Values: \n",
            "tensor([[-0.8347,  1.4113],\n",
            "        [ 0.3776, -0.3886]])\n"
          ]
        }
      ]
    },
    {
      "metadata": {
        "id": "G6316lAmMXZG",
        "outputId": "e80e3b78-85f8-4c14-b8e7-a5067a81b4e2",
        "colab": {
          "base_uri": "https://localhost:8080/"
        }
      },
      "cell_type": "code",
      "source": [
        "# 转置\n",
        "x = torch.randn(2, 3)\n",
        "print(\"Size: {}\".format(x.shape))\n",
        "print(\"Values: \\n{}\".format(x))\n",
        "y = torch.t(x)\n",
        "print(\"Size: {}\".format(y.shape))\n",
        "print(\"Values: \\n{}\".format(y))"
      ],
      "execution_count": 49,
      "outputs": [
        {
          "output_type": "stream",
          "name": "stdout",
          "text": [
            "Size: torch.Size([2, 3])\n",
            "Values: \n",
            "tensor([[-0.2393, -0.8744, -0.3205],\n",
            "        [ 0.4165,  0.3642, -0.7121]])\n",
            "Size: torch.Size([3, 2])\n",
            "Values: \n",
            "tensor([[-0.2393,  0.4165],\n",
            "        [-0.8744,  0.3642],\n",
            "        [-0.3205, -0.7121]])\n"
          ]
        }
      ]
    },
    {
      "metadata": {
        "id": "FCgDCOCjMXcF",
        "outputId": "bcf0b170-95d3-4064-db7c-2822817f69f7",
        "colab": {
          "base_uri": "https://localhost:8080/"
        }
      },
      "cell_type": "code",
      "source": [
        "# Reshape\n",
        "z = x.view(3, 2)\n",
        "print(\"Size: {}\".format(z.shape))\n",
        "print(\"Values: \\n{}\".format(z))"
      ],
      "execution_count": 50,
      "outputs": [
        {
          "output_type": "stream",
          "name": "stdout",
          "text": [
            "Size: torch.Size([3, 2])\n",
            "Values: \n",
            "tensor([[-0.2393, -0.8744],\n",
            "        [-0.3205,  0.4165],\n",
            "        [ 0.3642, -0.7121]])\n"
          ]
        }
      ]
    },
    {
      "metadata": {
        "id": "T3-6nGgvECH9",
        "outputId": "97070be5-5dff-4abb-9a62-045fd3f911e7",
        "colab": {
          "base_uri": "https://localhost:8080/"
        }
      },
      "cell_type": "code",
      "source": [
        "# reshaping的危险（意外后果）\n",
        "x = torch.tensor([\n",
        "    [[1,1,1,1], [2,2,2,2], [3,3,3,3]],\n",
        "    [[10,10,10,10], [20,20,20,20], [30,30,30,30]]\n",
        "])\n",
        "print(\"Size: {}\".format(x.shape))\n",
        "print(\"Values: \\n{}\\n\".format(x))\n",
        "a = x.view(x.size(1), -1)\n",
        "print(\"Size: {}\".format(a.shape))\n",
        "print(\"Values: \\n{}\\n\".format(a))\n",
        "b = x.transpose(0,1).contiguous()\n",
        "print(\"Size: {}\".format(b.shape))\n",
        "print(\"Values: \\n{}\\n\".format(b))\n",
        "c = b.view(b.size(0), -1)\n",
        "print(\"Size: {}\".format(c.shape))\n",
        "print(\"Values: \\n{}\".format(c))"
      ],
      "execution_count": 51,
      "outputs": [
        {
          "output_type": "stream",
          "name": "stdout",
          "text": [
            "Size: torch.Size([2, 3, 4])\n",
            "Values: \n",
            "tensor([[[ 1,  1,  1,  1],\n",
            "         [ 2,  2,  2,  2],\n",
            "         [ 3,  3,  3,  3]],\n",
            "\n",
            "        [[10, 10, 10, 10],\n",
            "         [20, 20, 20, 20],\n",
            "         [30, 30, 30, 30]]])\n",
            "\n",
            "Size: torch.Size([3, 8])\n",
            "Values: \n",
            "tensor([[ 1,  1,  1,  1,  2,  2,  2,  2],\n",
            "        [ 3,  3,  3,  3, 10, 10, 10, 10],\n",
            "        [20, 20, 20, 20, 30, 30, 30, 30]])\n",
            "\n",
            "Size: torch.Size([3, 2, 4])\n",
            "Values: \n",
            "tensor([[[ 1,  1,  1,  1],\n",
            "         [10, 10, 10, 10]],\n",
            "\n",
            "        [[ 2,  2,  2,  2],\n",
            "         [20, 20, 20, 20]],\n",
            "\n",
            "        [[ 3,  3,  3,  3],\n",
            "         [30, 30, 30, 30]]])\n",
            "\n",
            "Size: torch.Size([3, 8])\n",
            "Values: \n",
            "tensor([[ 1,  1,  1,  1, 10, 10, 10, 10],\n",
            "        [ 2,  2,  2,  2, 20, 20, 20, 20],\n",
            "        [ 3,  3,  3,  3, 30, 30, 30, 30]])\n"
          ]
        }
      ]
    },
    {
      "metadata": {
        "id": "hRtG5LShMXew",
        "outputId": "0396609d-2555-4915-d874-d91070ec4295",
        "colab": {
          "base_uri": "https://localhost:8080/"
        }
      },
      "cell_type": "code",
      "source": [
        "# 维度操作\n",
        "x = torch.randn(2, 3)\n",
        "print(\"Values: \\n{}\".format(x))\n",
        "y = torch.sum(x, dim=0) # 为每列添加各行叠加的值\n",
        "print(\"Values: \\n{}\".format(y))\n",
        "z = torch.sum(x, dim=1) # 为每行添加各列叠加的值\n",
        "print(\"Values: \\n{}\".format(z))"
      ],
      "execution_count": 52,
      "outputs": [
        {
          "output_type": "stream",
          "name": "stdout",
          "text": [
            "Values: \n",
            "tensor([[-0.8829,  1.0314,  1.1152],\n",
            "        [ 1.3328, -0.5288, -0.4849]])\n",
            "Values: \n",
            "tensor([0.4500, 0.5026, 0.6303])\n",
            "Values: \n",
            "tensor([1.2638, 0.3191])\n"
          ]
        }
      ]
    },
    {
      "metadata": {
        "id": "zI0ZV45PrYmw"
      },
      "cell_type": "markdown",
      "source": [
        "# 索引，切片和级联"
      ]
    },
    {
      "metadata": {
        "id": "iM3UFrs0MXhL",
        "outputId": "5d065b43-ff1f-44a8-92a2-41d9cf8a20aa",
        "colab": {
          "base_uri": "https://localhost:8080/"
        }
      },
      "cell_type": "code",
      "source": [
        "x = torch.randn(3, 4)\n",
        "print(\"x: \\n{}\".format(x))\n",
        "print (\"x[:1]: \\n{}\".format(x[:1]))\n",
        "print (\"x[:1, 1:3]: \\n{}\".format(x[:1, 1:3]))"
      ],
      "execution_count": 53,
      "outputs": [
        {
          "output_type": "stream",
          "name": "stdout",
          "text": [
            "x: \n",
            "tensor([[-0.4221, -0.6034,  0.4719,  0.9994],\n",
            "        [ 0.5991, -0.5578,  1.1728, -1.6195],\n",
            "        [ 0.8985,  0.9652,  0.3019,  1.6295]])\n",
            "x[:1]: \n",
            "tensor([[-0.4221, -0.6034,  0.4719,  0.9994]])\n",
            "x[:1, 1:3]: \n",
            "tensor([[-0.6034,  0.4719]])\n"
          ]
        }
      ]
    },
    {
      "metadata": {
        "id": "_tbpwGxcMXj0",
        "outputId": "0930f3b2-751d-40a2-e2e2-d7929d463bd8",
        "colab": {
          "base_uri": "https://localhost:8080/"
        }
      },
      "cell_type": "code",
      "source": [
        "# 选择维度索引\n",
        "x = torch.randn(2, 3)\n",
        "print(\"Values: \\n{}\".format(x))\n",
        "col_indices = torch.LongTensor([0, 2])\n",
        "chosen = torch.index_select(x, dim=1, index=col_indices) # 第0和第2列的值\n",
        "print(\"Values: \\n{}\".format(chosen))\n",
        "row_indices = torch.LongTensor([0, 1])\n",
        "chosen = x[row_indices, col_indices] # 来自（0,0）和（2,1）的值\n",
        "print(\"Values: \\n{}\".format(chosen))"
      ],
      "execution_count": 54,
      "outputs": [
        {
          "output_type": "stream",
          "name": "stdout",
          "text": [
            "Values: \n",
            "tensor([[-0.7936, -0.3918, -0.5397],\n",
            "        [ 1.5769, -0.8620, -0.0521]])\n",
            "Values: \n",
            "tensor([[-0.7936, -0.5397],\n",
            "        [ 1.5769, -0.0521]])\n",
            "Values: \n",
            "tensor([-0.7936, -0.0521])\n"
          ]
        }
      ]
    },
    {
      "metadata": {
        "id": "tMeqSQtuMXmH",
        "outputId": "21c33538-7f63-4b96-96c7-f9ab6bbfd55a",
        "colab": {
          "base_uri": "https://localhost:8080/"
        }
      },
      "cell_type": "code",
      "source": [
        "# 级联\n",
        "x = torch.randn(2, 3)\n",
        "print(\"Values: \\n{}\".format(x))\n",
        "y = torch.cat([x, x], dim=0) # 按行堆叠（dim = 1按列堆叠）\n",
        "print(\"Values: \\n{}\".format(y))"
      ],
      "execution_count": 55,
      "outputs": [
        {
          "output_type": "stream",
          "name": "stdout",
          "text": [
            "Values: \n",
            "tensor([[-0.0831, -0.4073, -0.3241],\n",
            "        [ 1.4726, -1.0771,  0.1149]])\n",
            "Values: \n",
            "tensor([[-0.0831, -0.4073, -0.3241],\n",
            "        [ 1.4726, -1.0771,  0.1149],\n",
            "        [-0.0831, -0.4073, -0.3241],\n",
            "        [ 1.4726, -1.0771,  0.1149]])\n"
          ]
        }
      ]
    },
    {
      "metadata": {
        "id": "JqiDuIC-ByvO"
      },
      "cell_type": "markdown",
      "source": [
        "# 梯度"
      ]
    },
    {
      "metadata": {
        "id": "qxpGB7-VL7fs",
        "outputId": "965e31e7-90c0-41c2-bb4f-a9674b243ef8",
        "colab": {
          "base_uri": "https://localhost:8080/"
        }
      },
      "cell_type": "code",
      "source": [
        "# 带有gradient bookkeeping的张量\n",
        "x = torch.rand(3, 4, requires_grad=True)\n",
        "y = 3*x + 2\n",
        "z = y.mean()\n",
        "z.backward() # z是标量\n",
        "print(\"Values: \\n{}\".format(x))\n",
        "print(\"x.grad: \\n\", x.grad)"
      ],
      "execution_count": 56,
      "outputs": [
        {
          "output_type": "stream",
          "name": "stdout",
          "text": [
            "Values: \n",
            "tensor([[0.8508, 0.8208, 0.7108, 0.7867],\n",
            "        [0.7515, 0.2599, 0.7063, 0.0660],\n",
            "        [0.0072, 0.4243, 0.7172, 0.5873]], requires_grad=True)\n",
            "x.grad: \n",
            " tensor([[0.2500, 0.2500, 0.2500, 0.2500],\n",
            "        [0.2500, 0.2500, 0.2500, 0.2500],\n",
            "        [0.2500, 0.2500, 0.2500, 0.2500]])\n"
          ]
        }
      ]
    },
    {
      "metadata": {
        "id": "uf7htaAMDcRV"
      },
      "cell_type": "markdown",
      "source": [
        "* $ y = 3x + 2 $\n",
        "* $ z = \\sum{y}/N $\n",
        "* $ \\frac{\\partial(z)}{\\partial(x)} = \\frac{\\partial(z)}{\\partial(y)} \\frac{\\partial(z)}{\\partial(x)} = \\frac{1}{N} * 3 = \\frac{1}{12} * 3 = 0.25 $"
      ]
    },
    {
      "metadata": {
        "id": "VQtpZh1YD-kz"
      },
      "cell_type": "markdown",
      "source": [
        "# CUDA 张量"
      ]
    },
    {
      "metadata": {
        "id": "E_C3en05L7iT",
        "outputId": "028431c5-33b4-4b1c-cf6b-9c1aee79fcdd",
        "colab": {
          "base_uri": "https://localhost:8080/"
        }
      },
      "cell_type": "code",
      "source": [
        "# CUDA可用吗？\n",
        "print (torch.cuda.is_available())"
      ],
      "execution_count": 57,
      "outputs": [
        {
          "output_type": "stream",
          "name": "stdout",
          "text": [
            "True\n"
          ]
        }
      ]
    },
    {
      "metadata": {
        "id": "za47KWEJ6en2"
      },
      "cell_type": "markdown",
      "source": [
        "如果上面的代码返回False，那么请转到菜单栏上的`Runtime`→`Change runtime type`并在`Hardware accelerator`下选择`GPU`。"
      ]
    },
    {
      "metadata": {
        "id": "BY2DdN3j6ZxO",
        "outputId": "77e35578-53bc-449f-e94d-2353ff4a58be",
        "colab": {
          "base_uri": "https://localhost:8080/"
        }
      },
      "cell_type": "code",
      "source": [
        "# 创建一个CPU版的0张量\n",
        "x = torch.Tensor(3, 4).to(\"cpu\")\n",
        "print(\"Type: {}\".format(x.type()))"
      ],
      "execution_count": 58,
      "outputs": [
        {
          "output_type": "stream",
          "name": "stdout",
          "text": [
            "Type: torch.FloatTensor\n"
          ]
        }
      ]
    },
    {
      "metadata": {
        "id": "EcmdTggzEFPi",
        "outputId": "48f89bf9-4be8-481b-fa94-8a4fb64d83ff",
        "colab": {
          "base_uri": "https://localhost:8080/"
        }
      },
      "cell_type": "code",
      "source": [
        "# 创建一个CUDA版的0张量\n",
        "x = torch.Tensor(3, 4).to(\"cuda\")\n",
        "print(\"Type: {}\".format(x.type()))"
      ],
      "execution_count": 59,
      "outputs": [
        {
          "output_type": "stream",
          "name": "stdout",
          "text": [
            "Type: torch.cuda.FloatTensor\n"
          ]
        }
      ]
    },
    {
      "metadata": {
        "id": "iD-JUbH4hgt7"
      },
      "cell_type": "code",
      "source": [],
      "execution_count": 59,
      "outputs": []
    }
  ]
}